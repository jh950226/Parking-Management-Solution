import serial
import mysql.connector
from datetime import datetime

# 시리얼 포트 설정 (Arduino와 연결)
ser = serial.Serial('/dev/ttyACM1', 9600)  # Windows는 COM 포트, Mac/Linux는 '/dev/ttyUSB0'로 설정
ser.flushInput()

# MySQL 데이터베이스 연결 설정
mydb_aws = mysql.connector.connect(
    host = "msdb.cvyy46quatrs.ap-northeast-2.rds.amazonaws.com",
    port = 3306,
    user = 'y',
    password = '1234',
    database = "iot"
)
cursor = mydb_aws.cursor(buffered=True)

# UID와 id, location 매핑 (공백 없이 연결된 hex 형식으로 설정)
uid_mapping = {
    "8CC14202": {"id": 5, "location": "8A3"},
    "73504614": {"id": 7, "location": "9A3"}
}

while True:
    if ser.in_waiting > 0:
        # Arduino에서 UID 데이터 수신
        uid_hex = ser.readline().decode('utf-8').strip()

        # 'VEHICLEID:'이 포함된 경우 제거하고 공백을 제거하여 비교
        if "VEHICLEID:" in uid_hex:
            uid_cleaned = uid_hex.replace("VEHICLEID:", "").replace(" ", "").upper()
        else:
            uid_cleaned = uid_hex.replace(" ", "").upper()

        # 디버깅: UID 매핑 키와 클린된 UID 출력
        print("UID Mapping Keys:", uid_mapping.keys())
        print("Cleaned UID:", uid_cleaned)

        # UID가 매핑된 데이터인지 확인
        if uid_cleaned in uid_mapping:
            vehicle_info = uid_mapping[uid_cleaned]
            vehicle_id = vehicle_info["id"]
            location = vehicle_info["location"]
            
            # 현재 시간을 entry_log 또는 exit_log로 설정
            current_time = datetime.now().strftime('%Y-%m-%d %H:%M:%S')
            
            # 기존 입차 여부 확인
            cursor.execute("SELECT * FROM parkloc WHERE id = %s AND exit_log IS NULL", (vehicle_id,))
            result = cursor.fetchone()
            
            if result:
                # 이미 입차된 차량이라면, exit_log 업데이트 (출차 처리)
                sql = "UPDATE parkloc SET exit_log = CURRENT_TIMESTAMP WHERE id = %s AND exit_log IS NULL"
                cursor.execute(sql, (vehicle_id,))
                print(f"Exit logged for vehicle {vehicle_id} at {current_time}")
            
            else:
                # 새로운 입차라면, entry_log에 현재 시간 삽입
                sql = "INSERT INTO parkloc (id, location, entry_log) VALUES (%s, %s, CURRENT_TIMESTAMP)"
                cursor.execute(sql, (vehicle_id, location))
                print(f"Entry logged for vehicle {vehicle_id} at {current_time}")
            
            # 변경 사항 커밋
            mydb_aws.commit()
        
        else:
            print(f"Unknown UID: {uid_cleaned}")
